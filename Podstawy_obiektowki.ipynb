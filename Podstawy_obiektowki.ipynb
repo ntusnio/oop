{
 "cells": [
  {
   "cell_type": "markdown",
   "metadata": {},
   "source": [
    "# Programowanie obiektowe\n",
    "Dzień pierwszy\n",
    "* fff\n",
    "* xxx"
   ]
  },
  {
   "cell_type": "code",
   "execution_count": 4,
   "metadata": {},
   "outputs": [
    {
     "name": "stdout",
     "output_type": "stream",
     "text": [
      "Podstawy_obiektowki.ipynb  readme.md  requirements.txt  Untitled.ipynb  \u001b[0m\u001b[01;34mvenv\u001b[0m/\r\n"
     ]
    }
   ],
   "source": [
    "ls"
   ]
  },
  {
   "cell_type": "code",
   "execution_count": 5,
   "metadata": {},
   "outputs": [],
   "source": [
    "lista_plikow=!ls"
   ]
  },
  {
   "cell_type": "markdown",
   "metadata": {},
   "source": [
    "# Dzień pierwszy z programowania obiektowego"
   ]
  },
  {
   "cell_type": "code",
   "execution_count": 15,
   "metadata": {},
   "outputs": [],
   "source": [
    "import random\n",
    "def test_func():\n",
    "    for i in range(100):\n",
    "        chosen_int=random.randint(0,100)\n",
    "    return chosen_int\n"
   ]
  },
  {
   "cell_type": "code",
   "execution_count": 20,
   "metadata": {
    "scrolled": true
   },
   "outputs": [
    {
     "name": "stdout",
     "output_type": "stream",
     "text": [
      "231 µs ± 13.6 µs per loop (mean ± std. dev. of 7 runs, 1000 loops each)\n"
     ]
    }
   ],
   "source": [
    "%timeit test_func()"
   ]
  },
  {
   "cell_type": "code",
   "execution_count": 41,
   "metadata": {},
   "outputs": [
    {
     "name": "stdout",
     "output_type": "stream",
     "text": [
      "<class 'IPython.utils.text.SList'>\n",
      "44 requirements.txt\r\n"
     ]
    }
   ],
   "source": [
    "lista_plikow=!ls *.txt\n",
    "print(type(lista_plikow))\n",
    "for i in lista_plikow:\n",
    "    !wc -l {i}\n"
   ]
  },
  {
   "cell_type": "markdown",
   "metadata": {},
   "source": [
    "# Przykłady obiektów"
   ]
  },
  {
   "cell_type": "code",
   "execution_count": 48,
   "metadata": {},
   "outputs": [
    {
     "data": {
      "text/plain": [
       "'PRZYKLADOWY TEKST'"
      ]
     },
     "execution_count": 48,
     "metadata": {},
     "output_type": "execute_result"
    }
   ],
   "source": [
    "t='przykladowy tekst'\n",
    "t.upper()"
   ]
  },
  {
   "cell_type": "code",
   "execution_count": 123,
   "metadata": {},
   "outputs": [],
   "source": [
    "class Car:\n",
    "    '''This is Car model'''\n",
    "    wheels=4\n",
    "    car_id=0\n",
    "    def __init__(self,color,brand,model,doors_no=0,speed=0):\n",
    "        self.color=color\n",
    "        self.brand=brand\n",
    "        self.model=model\n",
    "        self.doors_no=doors_no    \n",
    "        self.max_speed=max_speed\n",
    "        Car.car_id+=1\n",
    "    def __repr__(self):\n",
    "        return \"{} {}\".format(self.model,self.color)\n",
    "    def wheels_count(self):\n",
    "        return self.wheels"
   ]
  },
  {
   "cell_type": "code",
   "execution_count": 124,
   "metadata": {},
   "outputs": [
    {
     "name": "stdout",
     "output_type": "stream",
     "text": [
      "3\n"
     ]
    }
   ],
   "source": [
    "nasz_fiat_tipo=Car('pink','fiat','tipo',4)\n",
    "nasz_toyota=Car('blue','toyota','cx-3',4)\n",
    "drugi=Car('r','b','3',4)\n",
    "print(drugi.car_id)"
   ]
  },
  {
   "cell_type": "code",
   "execution_count": 125,
   "metadata": {},
   "outputs": [
    {
     "name": "stdout",
     "output_type": "stream",
     "text": [
      "tipo pink cx-3 blue\n"
     ]
    }
   ],
   "source": [
    "print(nasz_fiat_tipo,nasz_toyota)"
   ]
  },
  {
   "cell_type": "code",
   "execution_count": 126,
   "metadata": {},
   "outputs": [
    {
     "data": {
      "text/plain": [
       "['__class__',\n",
       " '__delattr__',\n",
       " '__dict__',\n",
       " '__dir__',\n",
       " '__doc__',\n",
       " '__eq__',\n",
       " '__format__',\n",
       " '__ge__',\n",
       " '__getattribute__',\n",
       " '__gt__',\n",
       " '__hash__',\n",
       " '__init__',\n",
       " '__le__',\n",
       " '__lt__',\n",
       " '__module__',\n",
       " '__ne__',\n",
       " '__new__',\n",
       " '__reduce__',\n",
       " '__reduce_ex__',\n",
       " '__repr__',\n",
       " '__setattr__',\n",
       " '__sizeof__',\n",
       " '__str__',\n",
       " '__subclasshook__',\n",
       " '__weakref__',\n",
       " 'brand',\n",
       " 'car_id',\n",
       " 'color',\n",
       " 'doors_no',\n",
       " 'model',\n",
       " 'speed',\n",
       " 'wheels',\n",
       " 'wheels_count']"
      ]
     },
     "execution_count": 126,
     "metadata": {},
     "output_type": "execute_result"
    }
   ],
   "source": [
    "dir(nasz_fiat_tipo)"
   ]
  },
  {
   "cell_type": "code",
   "execution_count": 127,
   "metadata": {},
   "outputs": [
    {
     "data": {
      "text/plain": [
       "100"
      ]
     },
     "execution_count": 127,
     "metadata": {},
     "output_type": "execute_result"
    }
   ],
   "source": [
    "bmw=Car('red','BMW','320i',4,100)\n",
    "bmw.speed"
   ]
  },
  {
   "cell_type": "code",
   "execution_count": 132,
   "metadata": {},
   "outputs": [],
   "source": [
    "class truck(Car):\n",
    "    wheels=12\n",
    "    \n",
    "    def __init__(self,load,*args,**kwargs):\n",
    "        super().__init__(*args,**kwargs)\n",
    "        self.load=load\n",
    "    \n",
    "scania=truck(1000,'blue','scania','123')"
   ]
  },
  {
   "cell_type": "code",
   "execution_count": 133,
   "metadata": {},
   "outputs": [
    {
     "name": "stdout",
     "output_type": "stream",
     "text": [
      "1000\n"
     ]
    }
   ],
   "source": [
    "print(scania.load)"
   ]
  },
  {
   "cell_type": "code",
   "execution_count": 134,
   "metadata": {},
   "outputs": [],
   "source": [
    "class ParkingLot:\n",
    "    def __init__(self,cars=None):\n",
    "        if cars in None:\n",
    "            self.cars=[]\n",
    "        else:\n",
    "            self.cars=cars\n",
    "            \n",
    "    def list_all_cars(self):\n",
    "       for car in self.cars:\n",
    "            print(car)"
   ]
  },
  {
   "cell_type": "code",
   "execution_count": 142,
   "metadata": {},
   "outputs": [],
   "source": [
    "class Garage(list):\n",
    "    def iterate_over_cars(self):\n",
    "        for car in self.__iter__():\n",
    "            print(car)"
   ]
  },
  {
   "cell_type": "code",
   "execution_count": 143,
   "metadata": {},
   "outputs": [],
   "source": [
    "x_garage=Garage()"
   ]
  },
  {
   "cell_type": "code",
   "execution_count": null,
   "metadata": {},
   "outputs": [],
   "source": []
  }
 ],
 "metadata": {
  "kernelspec": {
   "display_name": "Python 3",
   "language": "python",
   "name": "python3"
  },
  "language_info": {
   "codemirror_mode": {
    "name": "ipython",
    "version": 3
   },
   "file_extension": ".py",
   "mimetype": "text/x-python",
   "name": "python",
   "nbconvert_exporter": "python",
   "pygments_lexer": "ipython3",
   "version": "3.5.2"
  }
 },
 "nbformat": 4,
 "nbformat_minor": 2
}
