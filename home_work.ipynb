{
 "cells": [
  {
   "cell_type": "code",
   "execution_count": 1,
   "metadata": {},
   "outputs": [
    {
     "name": "stdout",
     "output_type": "stream",
     "text": [
      "Norbert           [3, 3, 5] 3.5\n",
      "Andrew            [3, 3, 3] 3.0\n",
      "Grzegorz          [4, 5, 5] 4.5\n",
      "Karolina Zadroga  [5, 5, 3] 4.5\n",
      "kpazik            [4, 3, 5] 4.0\n",
      "lkobylinski       [5, 5, 5] 5.0\n",
      "Patryk            [5, 3, 5] 4.5\n",
      "Pawel T           [5, 4, 3] 4.0\n",
      "PiotrM            [3, 3, 4] 3.5\n",
      "Tomek Goral       [5, 4, 3] 4.0\n",
      "===============================\n",
      "[3.0, 3.5, 3.5, 4.0, 4.0, 4.0, 4.5, 4.5, 4.5, 5.0]\n",
      "mediana: 4.0\n"
     ]
    }
   ],
   "source": [
    "# Stwórz klasę Grupa (szkolna)\n",
    "# Grupa szkolna zawiera uczniów\n",
    "# Uczeń posiada listę stopni\n",
    "# Stwórz metodę, która obliczy medianę dla średnich ocen wszystkich uczniów\n",
    "import random\n",
    "\n",
    "class Grupa:\n",
    "    def __init__(self,imie_nazwisko):\n",
    "        self.imie_nazwisko = imie_nazwisko\n",
    "        self.oceny = [random.randint(3,5),random.randint(3,5),random.randint(3,5)]\n",
    "    def srednia(self):\n",
    "        return round(sum(self.oceny)/len(self.oceny)*2)/2\n",
    "\n",
    "def mediana(lista):\n",
    "    lista.sort()\n",
    "    print(lista)\n",
    "    if len(lista)%2!=0:\n",
    "        med=lista[len(lista)//2]\n",
    "    else:\n",
    "        med=(lista[len(lista)//2-1]+lista[len(lista)//2])/2\n",
    "    return med\n",
    "\n",
    "Uczen=[Grupa('Norbert'),\n",
    "       Grupa('Andrew'),\n",
    "       Grupa('Grzegorz'),\n",
    "       Grupa('Karolina Zadroga'),\n",
    "       Grupa('kpazik'),\n",
    "       Grupa('lkobylinski'),\n",
    "       Grupa('Patryk'),\n",
    "       Grupa('Pawel T'),\n",
    "       Grupa('PiotrM'),\n",
    "       Grupa('Tomek Goral')]\n",
    "\n",
    "lista=[]\n",
    "for i in Uczen:\n",
    "    print(i.imie_nazwisko,' '*(16-len(i.imie_nazwisko)),i.oceny,i.srednia())\n",
    "    lista.append(i.srednia())\n",
    "print('===============================')\n",
    "print('mediana:',mediana(lista))"
   ]
  },
  {
   "cell_type": "code",
   "execution_count": null,
   "metadata": {},
   "outputs": [],
   "source": []
  }
 ],
 "metadata": {
  "kernelspec": {
   "display_name": "Python 3",
   "language": "python",
   "name": "python3"
  },
  "language_info": {
   "codemirror_mode": {
    "name": "ipython",
    "version": 3
   },
   "file_extension": ".py",
   "mimetype": "text/x-python",
   "name": "python",
   "nbconvert_exporter": "python",
   "pygments_lexer": "ipython3",
   "version": "3.5.2"
  }
 },
 "nbformat": 4,
 "nbformat_minor": 2
}
